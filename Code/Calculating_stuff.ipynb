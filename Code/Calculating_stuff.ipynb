{
 "cells": [
  {
   "cell_type": "code",
   "execution_count": 1,
   "metadata": {},
   "outputs": [],
   "source": [
    "import numpy as np\n",
    "import pandas as pd\n",
    "import scipy.stats as stats\n",
    "import matplotlib.pyplot as plt\n",
    "import seaborn as sn\n",
    "import math"
   ]
  },
  {
   "cell_type": "code",
   "execution_count": 2,
   "metadata": {},
   "outputs": [
    {
     "name": "stdout",
     "output_type": "stream",
     "text": [
      "-7, -3, 2, 18, 22, 5, 11, -6, 8, 13, 4, 9, 27, -14, 30, 3, 10, "
     ]
    }
   ],
   "source": [
    "x = [43, 47,\n",
    "52, 68, 72, 55, 61, 44, 58, 63, 54, 59, 77, 36, 80, 53, 60\n",
    "]\n",
    "m = 50\n",
    "x = np.array(x)\n",
    "x = x - m\n",
    "for i in x:\n",
    "    print(f'{i}', end=\", \")"
   ]
  },
  {
   "cell_type": "code",
   "execution_count": 3,
   "metadata": {},
   "outputs": [
    {
     "name": "stdout",
     "output_type": "stream",
     "text": [
      "-14, -7, -6, -3, 2, 3, 4, 5, 8, 9, 10, 11, 13, 18, 22, 27, 30, "
     ]
    }
   ],
   "source": [
    "x = [43, 47,\n",
    "52, 68, 72, 55, 61, 44, 58, 63, 54, 59, 77, 36, 80, 53, 60\n",
    "]\n",
    "x = np.array(x)\n",
    "x = np.sort(x - m)\n",
    "for i in x:\n",
    "    print(f'{i}', end=\", \")"
   ]
  },
  {
   "cell_type": "code",
   "execution_count": 4,
   "metadata": {},
   "outputs": [
    {
     "name": "stdout",
     "output_type": "stream",
     "text": [
      "2, 3, 3, 4, 5, 6, 7, 8, 9, 10, 11, 13, 14, 18, 22, 27, 30, "
     ]
    }
   ],
   "source": [
    "x = [43, 47,\n",
    "52, 68, 72, 55, 61, 44, 58, 63, 54, 59, 77, 36, 80, 53, 60\n",
    "]\n",
    "x = np.array(x)\n",
    "x_abs_sorted = np.sort(np.abs(x-m))\n",
    "for i in x_abs_sorted:\n",
    "    print(i, end= ', ')"
   ]
  },
  {
   "cell_type": "code",
   "execution_count": 5,
   "metadata": {},
   "outputs": [
    {
     "name": "stdout",
     "output_type": "stream",
     "text": [
      "76.5 21.12463017427761\n",
      "118.74926034855523\n"
     ]
    }
   ],
   "source": [
    "n = 17\n",
    "mu = (n*(n+1))/4\n",
    "std = math.sqrt(((n*(n+1)*(2*n+1))/24))\n",
    "print(mu, std)\n",
    "print(mu + 2 * std)"
   ]
  },
  {
   "cell_type": "code",
   "execution_count": 20,
   "metadata": {},
   "outputs": [
    {
     "name": "stdout",
     "output_type": "stream",
     "text": [
      "13, 13, 13, 13, 13, 13, 13, 13, 13, 13, 13, 13, 13, 13, 13, 13, 13, \n",
      "[36 43 44 47 50 50 50 50 50 50 50 50 50 50 50 50 50 50 50 50 50 52 53 54\n",
      " 55 58 59 60 61 63 68 72 77 80]\n",
      "595\n"
     ]
    }
   ],
   "source": [
    "x = [43, 47,\n",
    "52, 68, 72, 55, 61, 44, 58, 63, 54, 59, 77, 36, 80, 53, 60\n",
    "]   \n",
    "for i in range(17):\n",
    "    print(13, end=', ')\n",
    "    x.append(50)\n",
    "print(\"\")\n",
    "x = np.array(x)\n",
    "print(np.sort(x))\n",
    "y = [1, 2, 3, 4, 13, 13, 13, 13, 13, 13, 13, 13, 13, 13, 13,\n",
    "        13, 13, 13, 13, 13, 13, 22, 23, 24, 25, 26, 27, 28, 29, 30, 31, 32, 33, 34]\n",
    "y = np.array(y)\n",
    "print(np.sum(y))"
   ]
  },
  {
   "cell_type": "code",
   "execution_count": null,
   "metadata": {},
   "outputs": [
    {
     "name": "stdout",
     "output_type": "stream",
     "text": [
      "[ -7  -1   3  -5   7  -8   1  -4  -2   0 -10 -27]\n",
      "[ 0  1  1  2  3  4  5  7  7  8 10 27]\n",
      "61.0\n"
     ]
    }
   ],
   "source": [
    "left_ear = [25, 29, 10, 31, 27, 24, 27, 29, 30, 32, 20, 5]\n",
    "right_ear = [32, 30, 7, 36, 20, 32, 26, 33, 32, 32, 30, 32]\n",
    "left_ear = np.array(left_ear)\n",
    "right_ear = np.array(right_ear)\n",
    "d = left_ear - right_ear\n",
    "print(d)\n",
    "print(np.sort(np.abs(d)))\n",
    "print(8.5+2.5+7+10+6+4+11+12)"
   ]
  },
  {
   "cell_type": "code",
   "execution_count": null,
   "metadata": {},
   "outputs": [
    {
     "name": "stdout",
     "output_type": "stream",
     "text": [
      "[0.03 0.02 0.04 0.07 0.09 0.08 0.06 0.09 0.07 0.1  0.09 0.1  0.12 0.15\n",
      " 0.18 0.16 0.11 0.06 0.05 0.05 0.06 0.09 0.1  0.08 0.1 ]\n",
      "0.18\n",
      "product of probabilities: 1.282892256975174\n",
      "[0.025 0.01  0.    0.025 0.035 0.    0.05  0.025 0.075 0.05  0.085 0.09\n",
      " 0.08  0.055 0.03  0.08  0.105 0.11  0.095 0.075 0.05  0.015 0.01  0.02\n",
      " 0.05 ]\n",
      "0.1100000000000001\n"
     ]
    }
   ],
   "source": [
    "x = [0.42, 0.06, 0.88, 0.40, 0.90,\n",
    "0.38, 0.78, 0.71 ,0.57, 0.66,\n",
    "0.48, 0.35 ,0.16 ,0.22 ,0.08,\n",
    "0.11 ,0.29, 0.79 ,0.75 ,0.82,\n",
    "0.30 ,0.23 ,0.01 ,0.41, 0.09\n",
    "]\n",
    "x = np.array(x)\n",
    "x = np.sort(x)\n",
    "t = np.zeros(shape=25)\n",
    "y = np.zeros(shape=25)\n",
    "given_probablity = np.zeros(shape=25)\n",
    "for i,item in enumerate(x):\n",
    "    y[i] = stats.uniform.cdf(item,0, 1)\n",
    "\n",
    "for i in range(25):\n",
    "    if(y[i] >= ((i+1)/25)):\n",
    "        y[i] = y[i] - ((i+1)/25)\n",
    "    else:\n",
    "        y[i] = ((i+1)/25) - y[i]\n",
    "print(y)\n",
    "maximum = np.max(y)\n",
    "print(maximum)\n",
    "\n",
    "\n",
    "for i in range(25):\n",
    "    if x[i] < 0.5 and x[i] > 0:\n",
    "        given_probablity[i] = 3/2\n",
    "    elif x[i] < 1 and x[i] > 1/2:\n",
    "        given_probablity[i] = 1/2\n",
    "    else:\n",
    "        given_probablity[i]=0\n",
    "    \n",
    "print(f'product of probabilities: {np.prod(given_probablity)}')\n",
    "\n",
    "for i in range(25):\n",
    "    if 0 < x[i] and x[i] < 0.5:\n",
    "        t[i] = (3/2)*x[i]\n",
    "    elif x[i] <= 0:\n",
    "        t[i] = 0\n",
    "    elif 0.5 < x[i] and x[i] < 1:\n",
    "        t[i] = 0.5 + (0.5)*x[i]\n",
    "    else:\n",
    "        t[i] = 1\n",
    "\n",
    "for i in range(25):\n",
    "    if(t[i] >= ((i+1)/25)):\n",
    "        t[i] = t[i] - ((i+1)/25)\n",
    "    else:\n",
    "        t[i] = ((i+1)/25) - t[i]\n",
    "\n",
    "print(t)\n",
    "print(np.max(t))"
   ]
  },
  {
   "cell_type": "code",
   "execution_count": null,
   "metadata": {},
   "outputs": [
    {
     "name": "stdout",
     "output_type": "stream",
     "text": [
      "0.3100000000000003\n"
     ]
    }
   ],
   "source": [
    "class data:\n",
    "    def __init__(self, data, class_data):\n",
    "        self.data = data\n",
    "        self.class_data = class_data\n",
    "        self.cdf_1 = 0\n",
    "        self.cdf_2 = 0\n",
    "    def __repr__(self):\n",
    "        return f\"data(value={self.data}, class={self.class_data})\"\n",
    "    def setter_cdf(self, prob1, prob2):\n",
    "        self.cdf1 = prob1\n",
    "        self.cdf2 = prob2\n",
    "\n",
    "val1 = [0.61, 0.29, 0.06, 0.59, -1.73, -0.74, 0.51, -0.56, -0.39, 1.64, 0.05, -0.06, 0.64, -0.82, 0.31, 1.77, 1.09, -1.28, 2.36, 1.31, 1.05, -0.32, -0.40, 1.06, -2.47]\n",
    "val2 = [2.20, 1.66, 1.38, 0.20, 0.36, 0.00, 0.96, 1.56, 0.44, 1.50, -0.30, 0.66, 2.31, 3.29, -0.27, -0.37, 0.38, 0.70, 0.52, -0.71]\n",
    "for i in range(len(val1)):\n",
    "    val1[i] += 2\n",
    "for i in range(len(val2)):\n",
    "    val2[i] *= 3\n",
    "my_data = []\n",
    "for i in range(len(val1)):\n",
    "    my_data.append(data(val1[i], 1))\n",
    "for i in range(len(val2)):\n",
    "    my_data.append(data(val2[i], 2))\n",
    "\n",
    "my_data.sort(key=lambda x : x.data)\n",
    "x, y = 0, 0\n",
    "for i in range(len(my_data)):\n",
    "    if(my_data[i].class_data == 1) and (my_data[i].class_data != 2):\n",
    "        x+= (1/25) \n",
    "        my_data[i].setter_cdf(x,y)\n",
    "    elif(my_data[i].class_data == 2) and (my_data[i].class_data !=1):\n",
    "        y += (1/20)\n",
    "        my_data[i].setter_cdf(x,y)\n",
    "\n",
    "absolute_val = np.zeros(shape=len(my_data))\n",
    "for i in range(len(my_data)):\n",
    "    absolute_val[i] = abs(my_data[i].cdf1-my_data[i].cdf2)\n",
    "print(np.max(absolute_val))\n"
   ]
  },
  {
   "cell_type": "code",
   "execution_count": null,
   "metadata": {},
   "outputs": [],
   "source": []
  }
 ],
 "metadata": {
  "kernelspec": {
   "display_name": "base",
   "language": "python",
   "name": "python3"
  },
  "language_info": {
   "codemirror_mode": {
    "name": "ipython",
    "version": 3
   },
   "file_extension": ".py",
   "mimetype": "text/x-python",
   "name": "python",
   "nbconvert_exporter": "python",
   "pygments_lexer": "ipython3",
   "version": "3.11.5"
  }
 },
 "nbformat": 4,
 "nbformat_minor": 2
}
